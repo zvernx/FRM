{
 "cells": [
  {
   "cell_type": "code",
   "execution_count": 1,
   "id": "ba629098-4793-4f2b-bfac-69243ba833f6",
   "metadata": {},
   "outputs": [
    {
     "data": {
      "text/plain": [
       "Date\n",
       "2019-01-02    2465.291016\n",
       "2019-01-03    2464.363037\n",
       "2019-01-04    2514.867920\n",
       "2019-01-07    2533.089111\n",
       "2019-01-08    2526.461914\n",
       "Name: Adj Close, dtype: float64"
      ]
     },
     "execution_count": 1,
     "metadata": {},
     "output_type": "execute_result"
    }
   ],
   "source": [
    "import numpy as np\n",
    "import pandas as pd\n",
    "from pandas_datareader import data as pdr\n",
    "from scipy import stats\n",
    "import matplotlib.pyplot as plt\n",
    "from pylab import mpl\n",
    "import datetime as dt\n",
    "\n",
    "\n",
    "mpl.rcParams['font.sans-serif']=['SimHei']\n",
    "mpl.rcParams['axes.unicode_minus']=False\n",
    "\n",
    "data = pdr.DataReader('000001.SS','yahoo',start=dt.date(2019,1,1),end=dt.date(2020,1,1))['Adj Close']\n",
    "\n",
    "data.head(5)\n"
   ]
  },
  {
   "cell_type": "code",
   "execution_count": 2,
   "id": "e6122c78-1408-4d86-9b18-b3dee93d72f1",
   "metadata": {},
   "outputs": [
    {
     "data": {
      "text/plain": [
       "Date\n",
       "2019-01-03   -0.000376\n",
       "2019-01-04    0.020494\n",
       "2019-01-07    0.007245\n",
       "2019-01-08   -0.002616\n",
       "2019-01-09    0.007078\n",
       "Name: Adj Close, dtype: float64"
      ]
     },
     "execution_count": 2,
     "metadata": {},
     "output_type": "execute_result"
    }
   ],
   "source": [
    "returns = data.pct_change().dropna()#简单收益率\n",
    "\n",
    "returns.head(5)\n"
   ]
  },
  {
   "cell_type": "code",
   "execution_count": 3,
   "id": "5834a608-06f5-4f79-973e-ac0f0fcce3aa",
   "metadata": {},
   "outputs": [
    {
     "data": {
      "text/plain": [
       "Date\n",
       "2019-01-03   -0.000376\n",
       "2019-01-04    0.020287\n",
       "2019-01-07    0.007219\n",
       "2019-01-08   -0.002620\n",
       "2019-01-09    0.007053\n",
       "dtype: float64"
      ]
     },
     "execution_count": 3,
     "metadata": {},
     "output_type": "execute_result"
    }
   ],
   "source": [
    "dt = np.array(data)\n",
    "logre=pd.Series(np.log(dt[1:len(dt)]/dt[0:len(dt)-1]))#对数收益率\n",
    "logre.index=returns.index\n",
    "logre.head()\n"
   ]
  },
  {
   "cell_type": "code",
   "execution_count": 39,
   "id": "93495a3c-462f-41fa-a10c-ac28e9f9afe1",
   "metadata": {},
   "outputs": [
    {
     "data": {
      "text/plain": [
       "[<matplotlib.lines.Line2D at 0x167dff24bb0>]"
      ]
     },
     "execution_count": 39,
     "metadata": {},
     "output_type": "execute_result"
    },
    {
     "data": {
      "image/png": "[encoded data removed]",
      "text/plain": [
       "<Figure size 432x288 with 1 Axes>"
      ]
     },
     "metadata": {
      "needs_background": "light"
     },
     "output_type": "display_data"
    }
   ],
   "source": [
    "sorted_=np.sort(logre*100)#对对数收益率排序\n",
    "y=np.arange(len(sorted_))/float(len(sorted_))#生成纵轴坐标范围(0,1)\n",
    "plt.plot(sorted_,y)"
   ]
  },
  {
   "cell_type": "code",
   "execution_count": 40,
   "id": "16a6f17c-bf5f-4807-9fd3-ae981b9c63e7",
   "metadata": {},
   "outputs": [
    {
     "data": {
      "text/plain": [
       "((array([-2.76339822, -2.46025022, -2.28802553, -2.16499522, -2.06799953,\n",
       "         -1.98727361, -1.9177391 , -1.85640314, -1.80134745, -1.75126571,\n",
       "         -1.70522662, -1.66254183, -1.62268761, -1.58525584, -1.54992202,\n",
       "         -1.5164237 , -1.48454548, -1.4541083 , -1.42496161, -1.39697757,\n",
       "         -1.37004667, -1.34407434, -1.3189783 , -1.29468655, -1.27113564,\n",
       "         -1.2482694 , -1.22603785, -1.20439628, -1.18330456, -1.16272651,\n",
       "         -1.14262939, -1.12298347, -1.10376168, -1.08493928, -1.06649361,\n",
       "         -1.04840385, -1.03065081, -1.01321681, -0.99608544, -0.97924154,\n",
       "         -0.96267098, -0.94636062, -0.93029822, -0.91447232, -0.89887221,\n",
       "         -0.88348784, -0.86830979, -0.85332918, -0.83853768, -0.82392739,\n",
       "         -0.80949091, -0.79522119, -0.78111159, -0.76715581, -0.75334787,\n",
       "         -0.7396821 , -0.72615308, -0.71275569, -0.69948503, -0.68633643,\n",
       "         -0.67330543, -0.66038778, -0.64757939, -0.63487638, -0.62227499,\n",
       "         -0.60977166, -0.59736293, -0.58504552, -0.57281623, -0.56067202,\n",
       "         -0.54860994, -0.53662716, -0.52472094, -0.51288865, -0.50112773,\n",
       "         -0.48943573, -0.47781025, -0.466249  , -0.45474974, -0.44331029,\n",
       "         -0.43192857, -0.42060253, -0.40933019, -0.39810963, -0.38693896,\n",
       "         -0.37581638, -0.36474009, -0.35370838, -0.34271954, -0.33177194,\n",
       "         -0.32086395, -0.30999401, -0.29916058, -0.28836214, -0.27759723,\n",
       "         -0.26686439, -0.2561622 , -0.24548928, -0.23484424, -0.22422576,\n",
       "         -0.21363249, -0.20306315, -0.19251644, -0.1819911 , -0.17148589,\n",
       "         -0.16099957, -0.15053092, -0.14007874, -0.12964185, -0.11921906,\n",
       "         -0.1088092 , -0.09841112, -0.08802368, -0.07764572, -0.06727611,\n",
       "         -0.05691374, -0.04655747, -0.0362062 , -0.0258588 , -0.01551418,\n",
       "         -0.00517121,  0.00517121,  0.01551418,  0.0258588 ,  0.0362062 ,\n",
       "          0.04655747,  0.05691374,  0.06727611,  0.07764572,  0.08802368,\n",
       "          0.09841112,  0.1088092 ,  0.11921906,  0.12964185,  0.14007874,\n",
       "          0.15053092,  0.16099957,  0.17148589,  0.1819911 ,  0.19251644,\n",
       "          0.20306315,  0.21363249,  0.22422576,  0.23484424,  0.24548928,\n",
       "          0.2561622 ,  0.26686439,  0.27759723,  0.28836214,  0.29916058,\n",
       "          0.30999401,  0.32086395,  0.33177194,  0.34271954,  0.35370838,\n",
       "          0.36474009,  0.37581638,  0.38693896,  0.39810963,  0.40933019,\n",
       "          0.42060253,  0.43192857,  0.44331029,  0.45474974,  0.466249  ,\n",
       "          0.47781025,  0.48943573,  0.50112773,  0.51288865,  0.52472094,\n",
       "          0.53662716,  0.54860994,  0.56067202,  0.57281623,  0.58504552,\n",
       "          0.59736293,  0.60977166,  0.62227499,  0.63487638,  0.64757939,\n",
       "          0.66038778,  0.67330543,  0.68633643,  0.69948503,  0.71275569,\n",
       "          0.72615308,  0.7396821 ,  0.75334787,  0.76715581,  0.78111159,\n",
       "          0.79522119,  0.80949091,  0.82392739,  0.83853768,  0.85332918,\n",
       "          0.86830979,  0.88348784,  0.89887221,  0.91447232,  0.93029822,\n",
       "          0.94636062,  0.96267098,  0.97924154,  0.99608544,  1.01321681,\n",
       "          1.03065081,  1.04840385,  1.06649361,  1.08493928,  1.10376168,\n",
       "          1.12298347,  1.14262939,  1.16272651,  1.18330456,  1.20439628,\n",
       "          1.22603785,  1.2482694 ,  1.27113564,  1.29468655,  1.3189783 ,\n",
       "          1.34407434,  1.37004667,  1.39697757,  1.42496161,  1.4541083 ,\n",
       "          1.48454548,  1.5164237 ,  1.54992202,  1.58525584,  1.62268761,\n",
       "          1.66254183,  1.70522662,  1.75126571,  1.80134745,  1.85640314,\n",
       "          1.9177391 ,  1.98727361,  2.06799953,  2.16499522,  2.28802553,\n",
       "          2.46025022,  2.76339822]),\n",
       "  array([-6.00677548e+00, -4.49551052e+00, -2.61423123e+00, -2.51520464e+00,\n",
       "         -2.45965525e+00, -1.98855197e+00, -1.84576495e+00, -1.75178453e+00,\n",
       "         -1.71929998e+00, -1.62905054e+00, -1.61598328e+00, -1.56972871e+00,\n",
       "         -1.52105837e+00, -1.49019748e+00, -1.41711543e+00, -1.41387109e+00,\n",
       "         -1.38152344e+00, -1.36452970e+00, -1.32502605e+00, -1.28119856e+00,\n",
       "         -1.21509315e+00, -1.20534943e+00, -1.20533406e+00, -1.18705312e+00,\n",
       "         -1.18189445e+00, -1.17549916e+00, -1.12142764e+00, -1.09593817e+00,\n",
       "         -1.04615013e+00, -1.00695394e+00, -9.93215850e-01, -9.81698388e-01,\n",
       "         -9.66602807e-01, -9.46671551e-01, -9.24396413e-01, -9.23184045e-01,\n",
       "         -8.95230863e-01, -8.71900185e-01, -8.70556704e-01, -8.12839680e-01,\n",
       "         -7.84941045e-01, -7.22579287e-01, -7.11115518e-01, -7.09928182e-01,\n",
       "         -6.94686787e-01, -6.73939110e-01, -6.69747330e-01, -6.38835404e-01,\n",
       "         -6.33965696e-01, -6.31833559e-01, -6.14862741e-01, -5.99601050e-01,\n",
       "         -5.61096006e-01, -5.59929930e-01, -5.12938627e-01, -5.04280810e-01,\n",
       "         -4.92057491e-01, -4.88989650e-01, -4.65980427e-01, -4.42472109e-01,\n",
       "         -4.36654046e-01, -4.34158581e-01, -4.32828546e-01, -4.20469705e-01,\n",
       "         -4.13420487e-01, -4.10941607e-01, -4.06436137e-01, -4.02787719e-01,\n",
       "         -3.96633711e-01, -3.64050067e-01, -3.49671289e-01, -3.41663113e-01,\n",
       "         -3.40501865e-01, -3.32660256e-01, -3.29209207e-01, -3.20072366e-01,\n",
       "         -3.05510479e-01, -2.98590032e-01, -2.97644786e-01, -2.90890627e-01,\n",
       "         -2.61967950e-01, -2.54877228e-01, -2.44944063e-01, -2.28498961e-01,\n",
       "         -2.02074102e-01, -1.94350221e-01, -1.82578374e-01, -1.78101017e-01,\n",
       "         -1.75934273e-01, -1.75142080e-01, -1.62014995e-01, -1.58717487e-01,\n",
       "         -1.55441250e-01, -1.33216910e-01, -1.19955814e-01, -1.17104685e-01,\n",
       "         -1.07584387e-01, -1.04913259e-01, -9.81934403e-02, -7.71437507e-02,\n",
       "         -5.42561388e-02, -5.02930496e-02, -4.63355796e-02, -4.18881904e-02,\n",
       "         -3.76488296e-02, -3.15317850e-02, -3.01225031e-02, -2.68185557e-02,\n",
       "         -2.38058836e-02, -1.61659863e-02, -1.08452267e-02,  7.28281611e-04,\n",
       "          3.00143680e-03,  3.68835196e-03,  1.14603893e-02,  1.68337137e-02,\n",
       "          3.06245144e-02,  4.67716752e-02,  4.67899034e-02,  5.03669642e-02,\n",
       "          5.03731160e-02,  6.99170369e-02,  8.43119481e-02,  8.45830218e-02,\n",
       "          8.68198430e-02,  8.77807331e-02,  9.43725501e-02,  9.73247984e-02,\n",
       "          1.05091201e-01,  1.07910745e-01,  1.33271350e-01,  1.39126567e-01,\n",
       "          1.59244721e-01,  1.64308335e-01,  1.66532999e-01,  1.93143712e-01,\n",
       "          1.95783235e-01,  2.02035031e-01,  2.03615216e-01,  2.05252567e-01,\n",
       "          2.06480468e-01,  2.38769485e-01,  2.43115453e-01,  2.44136589e-01,\n",
       "          2.44995394e-01,  2.52853019e-01,  2.77069204e-01,  2.84417204e-01,\n",
       "          2.88038439e-01,  2.92172517e-01,  3.08649742e-01,  3.31686750e-01,\n",
       "          3.48676160e-01,  3.49322696e-01,  3.84504294e-01,  3.86212818e-01,\n",
       "          3.86749616e-01,  3.96404671e-01,  4.13331719e-01,  4.15610632e-01,\n",
       "          4.17546029e-01,  4.31729442e-01,  4.37359874e-01,  4.48109022e-01,\n",
       "          4.55147114e-01,  4.59113047e-01,  4.75250778e-01,  4.80497177e-01,\n",
       "          4.84010810e-01,  4.96272137e-01,  5.00841414e-01,  5.38628203e-01,\n",
       "          5.57108423e-01,  5.61723485e-01,  5.77939686e-01,  5.82776929e-01,\n",
       "          6.04348143e-01,  6.15801963e-01,  6.31690418e-01,  6.70430901e-01,\n",
       "          6.75885277e-01,  6.83270155e-01,  6.86718558e-01,  7.05336692e-01,\n",
       "          7.21060783e-01,  7.21926531e-01,  7.36186882e-01,  7.39171287e-01,\n",
       "          7.42710228e-01,  7.78193144e-01,  7.90339508e-01,  8.01625664e-01,\n",
       "          8.34615515e-01,  8.46515650e-01,  8.48515556e-01,  8.50660425e-01,\n",
       "          8.51360217e-01,  8.56769172e-01,  8.76490334e-01,  8.77082860e-01,\n",
       "          9.26027265e-01,  9.30116060e-01,  9.36932459e-01,  9.51977075e-01,\n",
       "          9.57399295e-01,  9.89938630e-01,  1.03339792e+00,  1.09455090e+00,\n",
       "          1.11503586e+00,  1.14335830e+00,  1.14419849e+00,  1.15758748e+00,\n",
       "          1.22440933e+00,  1.23484115e+00,  1.26621378e+00,  1.29393235e+00,\n",
       "          1.30341647e+00,  1.33964822e+00,  1.35294921e+00,  1.35447954e+00,\n",
       "          1.37096161e+00,  1.41087129e+00,  1.43980527e+00,  1.55459141e+00,\n",
       "          1.76699219e+00,  1.78778638e+00,  1.82368923e+00,  1.88719759e+00,\n",
       "          1.89164557e+00,  1.90545124e+00,  2.02869139e+00,  2.07755356e+00,\n",
       "          2.19223742e+00,  2.34784146e+00,  2.35763533e+00,  2.44094925e+00,\n",
       "          2.54291014e+00,  2.54732166e+00,  2.64776696e+00,  3.04874460e+00,\n",
       "          3.14911485e+00,  5.44950150e+00])),\n",
       " (1.1115576727697565, 0.09268842007641982, 0.9615572112981863))"
      ]
     },
     "execution_count": 40,
     "metadata": {},
     "output_type": "execute_result"
    },
    {
     "data": {
      "image/png": "[encoded data removed]",
      "text/plain": [
       "<Figure size 432x288 with 1 Axes>"
      ]
     },
     "metadata": {
      "needs_background": "light"
     },
     "output_type": "display_data"
    }
   ],
   "source": [
    "#若只画上证指数分布的散点图（先求(0,1)之间的概率对应标准正态分布下的分位点）：\n",
    "#SH=stats.norm.ppf(y);plt.scatter(SH,sorted_)\n",
    "#画上证指数分布的散点图、正态分布的分位点图构成的QQ图：\n",
    "stats.probplot(sorted_,dist=\"norm\",plot=plt)\n"
   ]
  },
  {
   "cell_type": "code",
   "execution_count": 43,
   "id": "91129855-e057-49c3-b047-496148f88639",
   "metadata": {},
   "outputs": [
    {
     "data": {
      "image/png": "[encoded data removed]",
      "text/plain": [
       "<Figure size 576x432 with 1 Axes>"
      ]
     },
     "metadata": {
      "needs_background": "light"
     },
     "output_type": "display_data"
    }
   ],
   "source": [
    "logdf=pd.Series(np.random.normal(0,1,241))\n",
    "a=pd.concat([pd.Series(sorted_),logdf],axis=1)\n",
    "a.columns=['上证指数样本','标准正态分布样本']\n",
    "a=a.values#数据框转换为array数组\n",
    "plt.figure(figsize=(8,6))\n",
    "plt.hist(a,label=['上证指数样本','对数正态分布样本'],bins=100)\n",
    "plt.xlabel('样本值')\n",
    "plt.ylabel('频数')\n",
    "plt.title('两分布抽样比较')\n",
    "plt.legend()\n",
    "plt.grid()\n"
   ]
  }
 ],
 "metadata": {
  "kernelspec": {
   "display_name": "Python 3 (ipykernel)",
   "language": "python",
   "name": "python3"
  },
  "language_info": {
   "codemirror_mode": {
    "name": "ipython",
    "version": 3
   },
   "file_extension": ".py",
   "mimetype": "text/x-python",
   "name": "python",
   "nbconvert_exporter": "python",
   "pygments_lexer": "ipython3",
   "version": "3.8.10"
  }
 },
 "nbformat": 4,
 "nbformat_minor": 5
}
