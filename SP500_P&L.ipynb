{
 "cells": [
  {
   "cell_type": "code",
   "execution_count": 1,
   "id": "d6c99dfa-9305-42db-940b-453bc6b05394",
   "metadata": {},
   "outputs": [],
   "source": [
    "import os\n",
    "import sys\n",
    "\n",
    "from scipy import stats\n",
    "import price_download\n",
    "import pandas as pd\n",
    "import numpy as np\n",
    "import matplotlib.pyplot as plt\n",
    "import seaborn as sns\n",
    "import datetime\n",
    "sns.set_style(\"whitegrid\")"
   ]
  },
  {
   "cell_type": "code",
   "execution_count": 12,
   "id": "81a0f7bb-e0e1-4f76-b99f-e10fc11e68b2",
   "metadata": {},
   "outputs": [
    {
     "data": {
      "text/html": [
       "<div>\n",
       "<style scoped>\n",
       "    .dataframe tbody tr th:only-of-type {\n",
       "        vertical-align: middle;\n",
       "    }\n",
       "\n",
       "    .dataframe tbody tr th {\n",
       "        vertical-align: top;\n",
       "    }\n",
       "\n",
       "    .dataframe thead th {\n",
       "        text-align: right;\n",
       "    }\n",
       "</style>\n",
       "<table border=\"1\" class=\"dataframe\">\n",
       "  <thead>\n",
       "    <tr style=\"text-align: right;\">\n",
       "      <th>Symbols</th>\n",
       "      <th>^GSPC</th>\n",
       "    </tr>\n",
       "    <tr>\n",
       "      <th>Date</th>\n",
       "      <th></th>\n",
       "    </tr>\n",
       "  </thead>\n",
       "  <tbody>\n",
       "    <tr>\n",
       "      <th>2012-01-03</th>\n",
       "      <td>1277.060059</td>\n",
       "    </tr>\n",
       "    <tr>\n",
       "      <th>2012-01-04</th>\n",
       "      <td>1277.300049</td>\n",
       "    </tr>\n",
       "    <tr>\n",
       "      <th>2012-01-05</th>\n",
       "      <td>1281.060059</td>\n",
       "    </tr>\n",
       "    <tr>\n",
       "      <th>2012-01-06</th>\n",
       "      <td>1277.810059</td>\n",
       "    </tr>\n",
       "    <tr>\n",
       "      <th>2012-01-09</th>\n",
       "      <td>1280.699951</td>\n",
       "    </tr>\n",
       "  </tbody>\n",
       "</table>\n",
       "</div>"
      ],
      "text/plain": [
       "Symbols           ^GSPC\n",
       "Date                   \n",
       "2012-01-03  1277.060059\n",
       "2012-01-04  1277.300049\n",
       "2012-01-05  1281.060059\n",
       "2012-01-06  1277.810059\n",
       "2012-01-09  1280.699951"
      ]
     },
     "execution_count": 12,
     "metadata": {},
     "output_type": "execute_result"
    }
   ],
   "source": [
    "tickers = ['^GSPC']\n",
    "\n",
    "df = price_download.price_dl_all(tickers, '2012-01-01', str(datetime.date.today()))['Adj Close']\n",
    "\n",
    "df.head(5)"
   ]
  },
  {
   "cell_type": "code",
   "execution_count": 3,
   "id": "016d399b-e042-4937-a9c4-917afeed5c9e",
   "metadata": {},
   "outputs": [
    {
     "data": {
      "text/html": [
       "<div>\n",
       "<style scoped>\n",
       "    .dataframe tbody tr th:only-of-type {\n",
       "        vertical-align: middle;\n",
       "    }\n",
       "\n",
       "    .dataframe tbody tr th {\n",
       "        vertical-align: top;\n",
       "    }\n",
       "\n",
       "    .dataframe thead th {\n",
       "        text-align: right;\n",
       "    }\n",
       "</style>\n",
       "<table border=\"1\" class=\"dataframe\">\n",
       "  <thead>\n",
       "    <tr style=\"text-align: right;\">\n",
       "      <th>Symbols</th>\n",
       "      <th>^GSPC</th>\n",
       "    </tr>\n",
       "    <tr>\n",
       "      <th>Date</th>\n",
       "      <th></th>\n",
       "    </tr>\n",
       "  </thead>\n",
       "  <tbody>\n",
       "    <tr>\n",
       "      <th>2012-01-04</th>\n",
       "      <td>0.000188</td>\n",
       "    </tr>\n",
       "    <tr>\n",
       "      <th>2012-01-05</th>\n",
       "      <td>0.002939</td>\n",
       "    </tr>\n",
       "    <tr>\n",
       "      <th>2012-01-06</th>\n",
       "      <td>-0.002540</td>\n",
       "    </tr>\n",
       "    <tr>\n",
       "      <th>2012-01-09</th>\n",
       "      <td>0.002259</td>\n",
       "    </tr>\n",
       "    <tr>\n",
       "      <th>2012-01-10</th>\n",
       "      <td>0.008847</td>\n",
       "    </tr>\n",
       "    <tr>\n",
       "      <th>...</th>\n",
       "      <td>...</td>\n",
       "    </tr>\n",
       "    <tr>\n",
       "      <th>2022-02-22</th>\n",
       "      <td>-0.010195</td>\n",
       "    </tr>\n",
       "    <tr>\n",
       "      <th>2022-02-23</th>\n",
       "      <td>-0.018584</td>\n",
       "    </tr>\n",
       "    <tr>\n",
       "      <th>2022-02-24</th>\n",
       "      <td>0.014846</td>\n",
       "    </tr>\n",
       "    <tr>\n",
       "      <th>2022-02-25</th>\n",
       "      <td>0.022126</td>\n",
       "    </tr>\n",
       "    <tr>\n",
       "      <th>2022-02-28</th>\n",
       "      <td>-0.002446</td>\n",
       "    </tr>\n",
       "  </tbody>\n",
       "</table>\n",
       "<p>2555 rows × 1 columns</p>\n",
       "</div>"
      ],
      "text/plain": [
       "Symbols        ^GSPC\n",
       "Date                \n",
       "2012-01-04  0.000188\n",
       "2012-01-05  0.002939\n",
       "2012-01-06 -0.002540\n",
       "2012-01-09  0.002259\n",
       "2012-01-10  0.008847\n",
       "...              ...\n",
       "2022-02-22 -0.010195\n",
       "2022-02-23 -0.018584\n",
       "2022-02-24  0.014846\n",
       "2022-02-25  0.022126\n",
       "2022-02-28 -0.002446\n",
       "\n",
       "[2555 rows x 1 columns]"
      ]
     },
     "execution_count": 3,
     "metadata": {},
     "output_type": "execute_result"
    }
   ],
   "source": [
    "df1 = np.log(df/df.shift(1)).dropna()\n",
    "df1"
   ]
  },
  {
   "cell_type": "code",
   "execution_count": 4,
   "id": "33933da9-aef9-4982-b145-557c73e9d009",
   "metadata": {},
   "outputs": [],
   "source": [
    "df1 = df1.groupby(pd.Grouper(freq='W-Fri'))['^GSPC'].sum()"
   ]
  },
  {
   "cell_type": "code",
   "execution_count": 5,
   "id": "c9372591-31bc-4a72-a7e9-5e962646296c",
   "metadata": {},
   "outputs": [
    {
     "data": {
      "text/plain": [
       "Date\n",
       "2012-01-06    0.000587\n",
       "2012-01-13    0.008789\n",
       "2012-01-20    0.020189\n",
       "2012-01-27    0.000722\n",
       "2012-02-03    0.021472\n",
       "                ...   \n",
       "2022-02-04    0.015378\n",
       "2022-02-11   -0.018363\n",
       "2022-02-18   -0.015916\n",
       "2022-02-25    0.008194\n",
       "2022-03-04   -0.002446\n",
       "Freq: W-FRI, Name: ^GSPC, Length: 531, dtype: float64"
      ]
     },
     "execution_count": 5,
     "metadata": {},
     "output_type": "execute_result"
    }
   ],
   "source": [
    "df1"
   ]
  },
  {
   "cell_type": "code",
   "execution_count": 6,
   "id": "24712402-d2fb-4c6d-a23e-50d716778033",
   "metadata": {},
   "outputs": [
    {
     "data": {
      "text/plain": [
       "0.0023184624941497093"
      ]
     },
     "execution_count": 6,
     "metadata": {},
     "output_type": "execute_result"
    }
   ],
   "source": [
    "# PROCESS\n",
    "\n",
    "# generate std\n",
    "\n",
    "std = df1.std()\n",
    "\n",
    "# calculate mean returns\n",
    "avg_return = df1.mean()\n",
    "\n",
    "avg_return"
   ]
  },
  {
   "cell_type": "code",
   "execution_count": 7,
   "id": "99dcd115-e973-430b-9e7b-6c92a5ff90a0",
   "metadata": {},
   "outputs": [],
   "source": [
    "# find weekly VAR\n",
    "\n",
    "# set critical level\n",
    "critical_level = 0.07\n",
    "\n",
    "# find critical investment value\n",
    "cutoff1 = stats.norm.ppf(critical_level, avg_return, std)\n",
    "cutoff2 = stats.norm.ppf((1-critical_level), avg_return, std)\n",
    "\n"
   ]
  },
  {
   "cell_type": "code",
   "execution_count": 8,
   "id": "77de5a6b-92b5-488a-92a9-c2e4517923f5",
   "metadata": {},
   "outputs": [
    {
     "name": "stdout",
     "output_type": "stream",
     "text": [
      "weekly log VAR at 7%： -0.029176549137157608\n",
      "weekly potential return :D 0.03381347412545701\n"
     ]
    }
   ],
   "source": [
    "print(f'weekly log VAR at 7%： {cutoff1}')\n",
    "print(f'weekly potential return :D {cutoff2}')"
   ]
  },
  {
   "cell_type": "code",
   "execution_count": 9,
   "id": "a4978777-bc83-41e3-bbb2-6f558b81e339",
   "metadata": {},
   "outputs": [
    {
     "data": {
      "text/plain": [
       "<matplotlib.legend.Legend at 0x28cefa20fd0>"
      ]
     },
     "execution_count": 9,
     "metadata": {},
     "output_type": "execute_result"
    },
    {
     "data": {
      "image/png": "[encoded data removed]",
      "text/plain": [
       "<Figure size 756x432 with 1 Axes>"
      ]
     },
     "metadata": {},
     "output_type": "display_data"
    }
   ],
   "source": [
    "# plot pdf\n",
    "\n",
    "fig, ax = plt.subplots()\n",
    "\n",
    "x = np.linspace(avg_return - 4 * std,\n",
    "                avg_return + 4 * std, 100)\n",
    "\n",
    "y = stats.norm.pdf(x, avg_return, std,)\n",
    "\n",
    "ax.plot(x, y, color='b', linestyle='-',\n",
    "        linewidth=0.4, label='norm pdf')\n",
    "\n",
    "ax.set_xlabel('investment value')\n",
    "ax.set_ylabel('probably density')\n",
    "\n",
    "ymax = max(y)\n",
    "xmax = np.round(x[np.argmax(y)])\n",
    "text = \"x={:.10f}, \\n y={:.10f}\".format(xmax, ymax)\n",
    "ax.annotate(text, xy=(xmax, ymax))\n",
    "fig.set_size_inches(10.5, 6)\n",
    "ax.legend()"
   ]
  },
  {
   "cell_type": "code",
   "execution_count": 10,
   "id": "cb8bf87c-66ae-48a0-8eee-8b0e4c40048c",
   "metadata": {},
   "outputs": [
    {
     "name": "stdout",
     "output_type": "stream",
     "text": [
      "1 week VaR at 93% confidence: 0.03\n",
      "2 week VaR at 93% confidence: 0.04\n",
      "3 week VaR at 93% confidence: 0.05\n",
      "4 week VaR at 93% confidence: 0.06\n",
      "5 week VaR at 93% confidence: 0.07\n",
      "6 week VaR at 93% confidence: 0.07\n",
      "7 week VaR at 93% confidence: 0.08\n",
      "8 week VaR at 93% confidence: 0.08\n",
      "9 week VaR at 93% confidence: 0.09\n",
      "10 week VaR at 93% confidence: 0.09\n",
      "11 week VaR at 93% confidence: 0.1\n",
      "12 week VaR at 93% confidence: 0.1\n",
      "13 week VaR at 93% confidence: 0.11\n",
      "14 week VaR at 93% confidence: 0.11\n",
      "15 week VaR at 93% confidence: 0.11\n",
      "16 week VaR at 93% confidence: 0.12\n",
      "17 week VaR at 93% confidence: 0.12\n",
      "18 week VaR at 93% confidence: 0.12\n",
      "19 week VaR at 93% confidence: 0.13\n",
      "20 week VaR at 93% confidence: 0.13\n",
      "21 week VaR at 93% confidence: 0.13\n",
      "22 week VaR at 93% confidence: 0.14\n",
      "23 week VaR at 93% confidence: 0.14\n",
      "24 week VaR at 93% confidence: 0.14\n",
      "25 week VaR at 93% confidence: 0.15\n",
      "26 week VaR at 93% confidence: 0.15\n",
      "27 week VaR at 93% confidence: 0.15\n",
      "28 week VaR at 93% confidence: 0.15\n",
      "29 week VaR at 93% confidence: 0.16\n",
      "30 week VaR at 93% confidence: 0.16\n",
      "31 week VaR at 93% confidence: 0.16\n",
      "32 week VaR at 93% confidence: 0.17\n",
      "33 week VaR at 93% confidence: 0.17\n",
      "34 week VaR at 93% confidence: 0.17\n",
      "35 week VaR at 93% confidence: 0.17\n",
      "36 week VaR at 93% confidence: 0.18\n",
      "37 week VaR at 93% confidence: 0.18\n",
      "38 week VaR at 93% confidence: 0.18\n",
      "39 week VaR at 93% confidence: 0.18\n",
      "40 week VaR at 93% confidence: 0.18\n",
      "41 week VaR at 93% confidence: 0.19\n",
      "42 week VaR at 93% confidence: 0.19\n",
      "43 week VaR at 93% confidence: 0.19\n",
      "44 week VaR at 93% confidence: 0.19\n",
      "45 week VaR at 93% confidence: 0.2\n",
      "46 week VaR at 93% confidence: 0.2\n",
      "47 week VaR at 93% confidence: 0.2\n",
      "48 week VaR at 93% confidence: 0.2\n",
      "49 week VaR at 93% confidence: 0.2\n",
      "50 week VaR at 93% confidence: 0.21\n",
      "51 week VaR at 93% confidence: 0.21\n",
      "52 week VaR at 93% confidence: 0.21\n"
     ]
    }
   ],
   "source": [
    "# calculate n week VaR\n",
    "var_array = []\n",
    "num_weeks = 52\n",
    "for x in range(1, num_weeks+1):\n",
    "    var_array.append(np.abs(np.round(cutoff1 * np.sqrt(x), 2)))\n",
    "    print(str(x) + \" week VaR at 93% confidence: \" +\n",
    "          str(np.abs(np.round(cutoff1 * np.sqrt(x), 2))))"
   ]
  },
  {
   "cell_type": "code",
   "execution_count": 11,
   "id": "0e4fbe13-dd37-4aa2-92ce-3d19a79ef484",
   "metadata": {},
   "outputs": [
    {
     "data": {
      "image/png": "[encoded data removed]",
      "text/plain": [
       "<Figure size 648x432 with 1 Axes>"
      ]
     },
     "metadata": {},
     "output_type": "display_data"
    }
   ],
   "source": [
    "# build plot\n",
    "\n",
    "fig, ax = plt.subplots()\n",
    "\n",
    "ax.set_xlabel(\"Day #\")\n",
    "ax.set_ylabel(\"Max portfolio loss (USD)\")\n",
    "ax.set_title(\"Max portfolio loss (VaR) over 15-day period\")\n",
    "ax.plot(var_array, \"r\", marker='.')\n",
    "fig.set_size_inches(9, 6)"
   ]
  }
 ],
 "metadata": {
  "kernelspec": {
   "display_name": "Python 3 (ipykernel)",
   "language": "python",
   "name": "python3"
  },
  "language_info": {
   "codemirror_mode": {
    "name": "ipython",
    "version": 3
   },
   "file_extension": ".py",
   "mimetype": "text/x-python",
   "name": "python",
   "nbconvert_exporter": "python",
   "pygments_lexer": "ipython3",
   "version": "3.8.10"
  }
 },
 "nbformat": 4,
 "nbformat_minor": 5
}
