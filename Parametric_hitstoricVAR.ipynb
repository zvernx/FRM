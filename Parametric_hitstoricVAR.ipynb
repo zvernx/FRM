{
 "cells": [
  {
   "cell_type": "code",
   "execution_count": 6,
   "id": "984ce66f-4cb0-4dc8-a310-ed6d9bbc35b1",
   "metadata": {},
   "outputs": [
    {
     "data": {
      "text/html": [
       "<div>\n",
       "<style scoped>\n",
       "    .dataframe tbody tr th:only-of-type {\n",
       "        vertical-align: middle;\n",
       "    }\n",
       "\n",
       "    .dataframe tbody tr th {\n",
       "        vertical-align: top;\n",
       "    }\n",
       "\n",
       "    .dataframe thead th {\n",
       "        text-align: right;\n",
       "    }\n",
       "</style>\n",
       "<table border=\"1\" class=\"dataframe\">\n",
       "  <thead>\n",
       "    <tr style=\"text-align: right;\">\n",
       "      <th>Symbols</th>\n",
       "      <th>AAPL</th>\n",
       "      <th>FB</th>\n",
       "      <th>C</th>\n",
       "      <th>DIS</th>\n",
       "    </tr>\n",
       "    <tr>\n",
       "      <th>Date</th>\n",
       "      <th></th>\n",
       "      <th></th>\n",
       "      <th></th>\n",
       "      <th></th>\n",
       "    </tr>\n",
       "  </thead>\n",
       "  <tbody>\n",
       "    <tr>\n",
       "      <th>2018-01-02</th>\n",
       "      <td>43.064999</td>\n",
       "      <td>181.419998</td>\n",
       "      <td>74.360001</td>\n",
       "      <td>111.800003</td>\n",
       "    </tr>\n",
       "    <tr>\n",
       "      <th>2018-01-03</th>\n",
       "      <td>43.057499</td>\n",
       "      <td>184.669998</td>\n",
       "      <td>74.589996</td>\n",
       "      <td>112.279999</td>\n",
       "    </tr>\n",
       "    <tr>\n",
       "      <th>2018-01-04</th>\n",
       "      <td>43.257500</td>\n",
       "      <td>184.330002</td>\n",
       "      <td>75.510002</td>\n",
       "      <td>112.230003</td>\n",
       "    </tr>\n",
       "    <tr>\n",
       "      <th>2018-01-05</th>\n",
       "      <td>43.750000</td>\n",
       "      <td>186.850006</td>\n",
       "      <td>75.410004</td>\n",
       "      <td>111.620003</td>\n",
       "    </tr>\n",
       "    <tr>\n",
       "      <th>2018-01-08</th>\n",
       "      <td>43.587502</td>\n",
       "      <td>188.279999</td>\n",
       "      <td>74.529999</td>\n",
       "      <td>110.019997</td>\n",
       "    </tr>\n",
       "    <tr>\n",
       "      <th>...</th>\n",
       "      <td>...</td>\n",
       "      <td>...</td>\n",
       "      <td>...</td>\n",
       "      <td>...</td>\n",
       "    </tr>\n",
       "    <tr>\n",
       "      <th>2021-12-13</th>\n",
       "      <td>175.740005</td>\n",
       "      <td>334.489990</td>\n",
       "      <td>60.180000</td>\n",
       "      <td>150.429993</td>\n",
       "    </tr>\n",
       "    <tr>\n",
       "      <th>2021-12-14</th>\n",
       "      <td>174.330002</td>\n",
       "      <td>333.739990</td>\n",
       "      <td>60.639999</td>\n",
       "      <td>149.100006</td>\n",
       "    </tr>\n",
       "    <tr>\n",
       "      <th>2021-12-15</th>\n",
       "      <td>179.300003</td>\n",
       "      <td>341.660004</td>\n",
       "      <td>60.240002</td>\n",
       "      <td>150.399994</td>\n",
       "    </tr>\n",
       "    <tr>\n",
       "      <th>2021-12-16</th>\n",
       "      <td>172.259995</td>\n",
       "      <td>334.899994</td>\n",
       "      <td>61.070000</td>\n",
       "      <td>148.750000</td>\n",
       "    </tr>\n",
       "    <tr>\n",
       "      <th>2021-12-17</th>\n",
       "      <td>171.139999</td>\n",
       "      <td>333.790009</td>\n",
       "      <td>59.540001</td>\n",
       "      <td>148.759995</td>\n",
       "    </tr>\n",
       "  </tbody>\n",
       "</table>\n",
       "<p>999 rows × 4 columns</p>\n",
       "</div>"
      ],
      "text/plain": [
       "Symbols           AAPL          FB          C         DIS\n",
       "Date                                                     \n",
       "2018-01-02   43.064999  181.419998  74.360001  111.800003\n",
       "2018-01-03   43.057499  184.669998  74.589996  112.279999\n",
       "2018-01-04   43.257500  184.330002  75.510002  112.230003\n",
       "2018-01-05   43.750000  186.850006  75.410004  111.620003\n",
       "2018-01-08   43.587502  188.279999  74.529999  110.019997\n",
       "...                ...         ...        ...         ...\n",
       "2021-12-13  175.740005  334.489990  60.180000  150.429993\n",
       "2021-12-14  174.330002  333.739990  60.639999  149.100006\n",
       "2021-12-15  179.300003  341.660004  60.240002  150.399994\n",
       "2021-12-16  172.259995  334.899994  61.070000  148.750000\n",
       "2021-12-17  171.139999  333.790009  59.540001  148.759995\n",
       "\n",
       "[999 rows x 4 columns]"
      ]
     },
     "execution_count": 6,
     "metadata": {},
     "output_type": "execute_result"
    }
   ],
   "source": [
    "import numpy as np\n",
    "import pandas as pd\n",
    "from pandas_datareader import data as pdr\n",
    "from scipy import stats as st\n",
    "import matplotlib.pyplot as plt\n",
    "from pylab import mpl\n",
    "import datetime as dt\n",
    "\n",
    "tickers = ['AAPL','FB', 'C', 'DIS']\n",
    "\n",
    "data = pdr.get_data_yahoo(tickers, start=\"2018-01-01\", end=dt.date.today())['Close']\n",
    "\n",
    "data"
   ]
  },
  {
   "cell_type": "code",
   "execution_count": 7,
   "id": "6f74b254-0125-4ee3-8995-dbfcf4f60de1",
   "metadata": {},
   "outputs": [
    {
     "name": "stdout",
     "output_type": "stream",
     "text": [
      "投资组合的μ=0.000514,σ=0.017388\n",
      "99%置信水平下1天的normal VaR为3993.59,lognormal VaR为3914.90\n",
      "99%置信水平下10天的normal VaR为12628.85,lognormal VaR为12380.00\n"
     ]
    }
   ],
   "source": [
    "R=np.log(data/data.shift(1)).dropna()\n",
    "w=np.array([0.25,0.25,0.25,0.25])\n",
    "Rmean=R.mean()\n",
    "Rcov=R.cov()\n",
    "Rp=np.sum(R.mean()*w)\n",
    "volp=np.sqrt(w@Rcov@w.T)\n",
    "print('投资组合的μ={:.6f},σ={:.6f}'.format(Rp,volp))\n",
    "\n",
    "\n",
    "def VaR_norm(miu,sigma,x,P,n):#n参数为持有期,x为置信水平\n",
    "\t\n",
    "\tz=abs(st.norm.ppf(q=1-x))#标准正态分布中1-x的概率对应的分位点\n",
    "\treturn -(miu-z*sigma)*P*np.sqrt(n)\n",
    "\n",
    "def VaR_lognorm(miu,sigma,x,P,n):\n",
    "\t\n",
    "\tz=abs(st.norm.ppf(q=1-x))\n",
    "\treturn (1-np.exp(miu-z*sigma))*P*np.sqrt(n)\n",
    "\n",
    "print('99%置信水平下1天的normal VaR为{:.2f},lognormal VaR为{:.2f}'.format(\\\n",
    "VaR_norm(Rp,volp,0.99,1e5,1),VaR_lognorm(Rp,volp,0.99,1e5,1)))\n",
    "\n",
    "\n",
    "print('99%置信水平下10天的normal VaR为{:.2f},lognormal VaR为{:.2f}'.format(\\\n",
    "VaR_norm(Rp,volp,0.99,1e5,10),VaR_lognorm(Rp,volp,0.99,1e5,10)))"
   ]
  },
  {
   "cell_type": "code",
   "execution_count": 8,
   "id": "e90f701b-0101-4e2b-9bd7-fbda8bf69447",
   "metadata": {},
   "outputs": [
    {
     "data": {
      "image/png": "[encoded data removed]",
      "text/plain": [
       "<Figure size 432x288 with 1 Axes>"
      ]
     },
     "metadata": {
      "needs_background": "light"
     },
     "output_type": "display_data"
    }
   ],
   "source": [
    "\n",
    "mpl.rcParams['font.sans-serif']=['SimHei']\n",
    "mpl.rcParams['axes.unicode_minus']=False\n",
    "plt.hist(R,bins=40,edgecolor='k')\n",
    "plt.xlabel('Return')\n",
    "plt.ylabel('Frequency')\n",
    "plt.title('Portfolio Daily Return')\n",
    "plt.grid()\n"
   ]
  },
  {
   "cell_type": "code",
   "execution_count": 9,
   "id": "b248cddd-a5a6-45ad-b8e3-dbbb9dd08969",
   "metadata": {},
   "outputs": [
    {
     "data": {
      "text/plain": [
       "NormaltestResult(statistic=301.34140003820164, pvalue=3.6689888944419276e-66)"
      ]
     },
     "execution_count": 9,
     "metadata": {},
     "output_type": "execute_result"
    }
   ],
   "source": [
    "rp=pd.Series((1e5*R)@w,index=R.index)\n",
    "\n",
    "st.normaltest(rp)\n"
   ]
  },
  {
   "cell_type": "code",
   "execution_count": 10,
   "id": "ff4661e6-794a-47b2-89d5-636e5759453e",
   "metadata": {},
   "outputs": [
    {
     "name": "stdout",
     "output_type": "stream",
     "text": [
      "1 day value at risk 4949.599221110962\n",
      "2 day value at risk 6999.790346806431\n",
      "3 day value at risk 8572.957328067529\n",
      "4 day value at risk 9899.198442221925\n",
      "5 day value at risk 11067.640319784125\n",
      "6 day value at risk 12123.99252299891\n",
      "7 day value at risk 13095.408628498606\n",
      "8 day value at risk 13999.580693612863\n",
      "9 day value at risk 14848.797663332887\n",
      "10 day value at risk 15652.007043706008\n",
      "11 day value at risk 16415.963479060396\n",
      "12 day value at risk 17145.914656135057\n",
      "13 day value at risk 17846.0337847122\n",
      "14 day value at risk 18519.70448724038\n",
      "15 day value at risk 19169.71535376396\n"
     ]
    }
   ],
   "source": [
    "\n",
    "#显然p＜0.01，拒绝服从正态分布的原假设，因此用参数法计算VaR可能会产生偏差\n",
    "def VaR_daily(a,x):\n",
    "\t#求a数列第(1-x)%分位的数值的绝对值,默认升序排序\n",
    "\treturn abs(np.percentile(a,(1-x)*100))\n",
    "\n",
    "#print('99% confidence level daily VaR: {:.2f},10 day VAR: {:.2f}'.format(\\\n",
    "#VaR_daily(rp,0.99),VaR_daily(rp,0.99)*np.sqrt(10)))\n",
    "\n",
    "num_days = 15\n",
    "\n",
    "for i in range(1, num_days+1):\n",
    "    print(str(i) + ' day value at risk ' + str(VaR_daily(rp, 0.99)*np.sqrt(i)))\n",
    "    \n",
    "    "
   ]
  }
 ],
 "metadata": {
  "kernelspec": {
   "display_name": "Python 3 (ipykernel)",
   "language": "python",
   "name": "python3"
  },
  "language_info": {
   "codemirror_mode": {
    "name": "ipython",
    "version": 3
   },
   "file_extension": ".py",
   "mimetype": "text/x-python",
   "name": "python",
   "nbconvert_exporter": "python",
   "pygments_lexer": "ipython3",
   "version": "3.8.10"
  }
 },
 "nbformat": 4,
 "nbformat_minor": 5
}
