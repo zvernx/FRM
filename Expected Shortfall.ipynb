{
 "cells": [
  {
   "cell_type": "code",
   "execution_count": 23,
   "id": "0407a5f3-f905-42c2-ac82-02c999f46691",
   "metadata": {},
   "outputs": [
    {
     "data": {
      "text/html": [
       "<div>\n",
       "<style scoped>\n",
       "    .dataframe tbody tr th:only-of-type {\n",
       "        vertical-align: middle;\n",
       "    }\n",
       "\n",
       "    .dataframe tbody tr th {\n",
       "        vertical-align: top;\n",
       "    }\n",
       "\n",
       "    .dataframe thead th {\n",
       "        text-align: right;\n",
       "    }\n",
       "</style>\n",
       "<table border=\"1\" class=\"dataframe\">\n",
       "  <thead>\n",
       "    <tr style=\"text-align: right;\">\n",
       "      <th>Symbols</th>\n",
       "      <th>AAPL</th>\n",
       "      <th>FB</th>\n",
       "      <th>C</th>\n",
       "      <th>DIS</th>\n",
       "      <th>^GSPC</th>\n",
       "    </tr>\n",
       "    <tr>\n",
       "      <th>Date</th>\n",
       "      <th></th>\n",
       "      <th></th>\n",
       "      <th></th>\n",
       "      <th></th>\n",
       "      <th></th>\n",
       "    </tr>\n",
       "  </thead>\n",
       "  <tbody>\n",
       "    <tr>\n",
       "      <th>2018-01-03</th>\n",
       "      <td>-0.000174</td>\n",
       "      <td>0.017756</td>\n",
       "      <td>0.003088</td>\n",
       "      <td>0.004284</td>\n",
       "      <td>0.006378</td>\n",
       "    </tr>\n",
       "    <tr>\n",
       "      <th>2018-01-04</th>\n",
       "      <td>0.004634</td>\n",
       "      <td>-0.001843</td>\n",
       "      <td>0.012259</td>\n",
       "      <td>-0.000445</td>\n",
       "      <td>0.004021</td>\n",
       "    </tr>\n",
       "    <tr>\n",
       "      <th>2018-01-05</th>\n",
       "      <td>0.011321</td>\n",
       "      <td>0.013579</td>\n",
       "      <td>-0.001325</td>\n",
       "      <td>-0.005450</td>\n",
       "      <td>0.007009</td>\n",
       "    </tr>\n",
       "    <tr>\n",
       "      <th>2018-01-08</th>\n",
       "      <td>-0.003721</td>\n",
       "      <td>0.007624</td>\n",
       "      <td>-0.011738</td>\n",
       "      <td>-0.014438</td>\n",
       "      <td>0.001661</td>\n",
       "    </tr>\n",
       "    <tr>\n",
       "      <th>2018-01-09</th>\n",
       "      <td>-0.000115</td>\n",
       "      <td>-0.002180</td>\n",
       "      <td>0.010411</td>\n",
       "      <td>-0.000727</td>\n",
       "      <td>0.001302</td>\n",
       "    </tr>\n",
       "    <tr>\n",
       "      <th>...</th>\n",
       "      <td>...</td>\n",
       "      <td>...</td>\n",
       "      <td>...</td>\n",
       "      <td>...</td>\n",
       "      <td>...</td>\n",
       "    </tr>\n",
       "    <tr>\n",
       "      <th>2021-12-13</th>\n",
       "      <td>-0.020891</td>\n",
       "      <td>0.014272</td>\n",
       "      <td>-0.008768</td>\n",
       "      <td>-0.015043</td>\n",
       "      <td>-0.009178</td>\n",
       "    </tr>\n",
       "    <tr>\n",
       "      <th>2021-12-14</th>\n",
       "      <td>-0.008056</td>\n",
       "      <td>-0.002245</td>\n",
       "      <td>0.007615</td>\n",
       "      <td>-0.008881</td>\n",
       "      <td>-0.007499</td>\n",
       "    </tr>\n",
       "    <tr>\n",
       "      <th>2021-12-15</th>\n",
       "      <td>0.028110</td>\n",
       "      <td>0.023454</td>\n",
       "      <td>-0.006618</td>\n",
       "      <td>0.008681</td>\n",
       "      <td>0.016216</td>\n",
       "    </tr>\n",
       "    <tr>\n",
       "      <th>2021-12-16</th>\n",
       "      <td>-0.040055</td>\n",
       "      <td>-0.019984</td>\n",
       "      <td>0.013684</td>\n",
       "      <td>-0.011031</td>\n",
       "      <td>-0.008782</td>\n",
       "    </tr>\n",
       "    <tr>\n",
       "      <th>2021-12-17</th>\n",
       "      <td>-0.006523</td>\n",
       "      <td>-0.003320</td>\n",
       "      <td>-0.025372</td>\n",
       "      <td>0.000067</td>\n",
       "      <td>-0.010341</td>\n",
       "    </tr>\n",
       "  </tbody>\n",
       "</table>\n",
       "<p>998 rows × 5 columns</p>\n",
       "</div>"
      ],
      "text/plain": [
       "Symbols         AAPL        FB         C       DIS     ^GSPC\n",
       "Date                                                        \n",
       "2018-01-03 -0.000174  0.017756  0.003088  0.004284  0.006378\n",
       "2018-01-04  0.004634 -0.001843  0.012259 -0.000445  0.004021\n",
       "2018-01-05  0.011321  0.013579 -0.001325 -0.005450  0.007009\n",
       "2018-01-08 -0.003721  0.007624 -0.011738 -0.014438  0.001661\n",
       "2018-01-09 -0.000115 -0.002180  0.010411 -0.000727  0.001302\n",
       "...              ...       ...       ...       ...       ...\n",
       "2021-12-13 -0.020891  0.014272 -0.008768 -0.015043 -0.009178\n",
       "2021-12-14 -0.008056 -0.002245  0.007615 -0.008881 -0.007499\n",
       "2021-12-15  0.028110  0.023454 -0.006618  0.008681  0.016216\n",
       "2021-12-16 -0.040055 -0.019984  0.013684 -0.011031 -0.008782\n",
       "2021-12-17 -0.006523 -0.003320 -0.025372  0.000067 -0.010341\n",
       "\n",
       "[998 rows x 5 columns]"
      ]
     },
     "execution_count": 23,
     "metadata": {},
     "output_type": "execute_result"
    }
   ],
   "source": [
    "import pandas as pd\n",
    "\n",
    "from pandas_datareader import data as pdr\n",
    "\n",
    "import yfinance as yf\n",
    "import numpy as np\n",
    "import datetime as dt\n",
    "import matplotlib.pyplot as plt\n",
    "import matplotlib.mlab as mlab\n",
    "import scipy\n",
    "import scipy.stats as st\n",
    "\n",
    "# Create our portfolio of equities\n",
    "tickers = ['AAPL','FB', 'C', 'DIS', '^GSPC']\n",
    " \n",
    "# Set the investment weights (I arbitrarily picked for example)\n",
    "weights = np.array([.2, .2, .2, .2, .2])\n",
    " \n",
    "# Set an initial investment level\n",
    "initial_investment = 100000\n",
    " \n",
    "# Download closing prices\n",
    "data = pdr.get_data_yahoo(tickers, start=\"2018-01-01\", end=dt.date.today())['Adj Close']\n",
    " \n",
    "#From the closing prices, calculate periodic returns\n",
    "\n",
    "#Simple Return\n",
    "\n",
    "#returns = data.pct_change().dropna()\n",
    "\n",
    "returns = np.log(data/data.shift(1)).dropna()\n",
    "\n",
    "returns"
   ]
  },
  {
   "cell_type": "code",
   "execution_count": 24,
   "id": "a56aafce-1a33-4e75-921a-f270f843f1d1",
   "metadata": {},
   "outputs": [
    {
     "name": "stdout",
     "output_type": "stream",
     "text": [
      "mean return:  0.000558, volatility:  0.016393\n"
     ]
    }
   ],
   "source": [
    "r = returns.mean().dot(weights)\n",
    "\n",
    "vol = np.sqrt(weights.T.dot(returns.cov()).dot(weights))\n",
    "\n",
    "print('mean return: {: 4f}, volatility: {: 4f}'.format(r, vol))"
   ]
  },
  {
   "cell_type": "code",
   "execution_count": 59,
   "id": "5cebc45d-7c25-43b8-93b1-ddff62b56d76",
   "metadata": {},
   "outputs": [
    {
     "data": {
      "text/plain": [
       "Date\n",
       "2018-01-03     626.645295\n",
       "2018-01-04     372.502229\n",
       "2018-01-05     502.670277\n",
       "2018-01-08    -412.252632\n",
       "2018-01-09     173.818792\n",
       "                 ...     \n",
       "2021-12-13    -792.164067\n",
       "2021-12-14    -381.298987\n",
       "2021-12-15    1396.869436\n",
       "2021-12-16   -1323.373295\n",
       "2021-12-17    -909.780629\n",
       "Length: 998, dtype: float64"
      ]
     },
     "execution_count": 59,
     "metadata": {},
     "output_type": "execute_result"
    }
   ],
   "source": [
    "\n",
    "#daily_returns = pd.Series((1e5*returns)@weights,index=returns.index)\n",
    "\n",
    "daily_returns = returns.dot(weights) * initial_investment\n",
    "\n",
    "#daily_returns.sort_values(inplace = True)\n",
    "\n",
    "daily_returns"
   ]
  },
  {
   "cell_type": "code",
   "execution_count": 73,
   "id": "f0f952a6-f21a-4158-95e3-b165943cbbff",
   "metadata": {},
   "outputs": [
    {
     "data": {
      "text/plain": [
       "4130.348970207261"
      ]
     },
     "execution_count": 73,
     "metadata": {},
     "output_type": "execute_result"
    }
   ],
   "source": [
    "def ES(c,x):\n",
    "    Var=np.percentile(c,(1-x)*100)\n",
    "    ES=c[c<=Var].mean()\n",
    "    \n",
    "    return [Var, abs(ES)]\n",
    "\n",
    "ES(daily_returns, 0.95)\n",
    "\n",
    "ES_daily = ES(daily_returns, 0.95)[1]\n",
    "\n",
    "ES_daily\n"
   ]
  },
  {
   "cell_type": "code",
   "execution_count": 76,
   "id": "fb95c71a-4009-4a49-9b3d-6be9e91216b0",
   "metadata": {},
   "outputs": [
    {
     "name": "stdout",
     "output_type": "stream",
     "text": [
      "1 day ES at 95% confidence level: 4130.35\n",
      "2 day ES at 95% confidence level: 5841.2\n",
      "3 day ES at 95% confidence level: 7153.97\n",
      "4 day ES at 95% confidence level: 8260.7\n",
      "5 day ES at 95% confidence level: 9235.74\n",
      "6 day ES at 95% confidence level: 10117.25\n",
      "7 day ES at 95% confidence level: 10927.88\n",
      "8 day ES at 95% confidence level: 11682.39\n",
      "9 day ES at 95% confidence level: 12391.05\n",
      "10 day ES at 95% confidence level: 13061.31\n"
     ]
    }
   ],
   "source": [
    "num_days = 10\n",
    "\n",
    "ES_nday = []\n",
    "\n",
    "for i in range(1, num_days+1):\n",
    "    ES_nday.append(np.round(ES_daily * np.sqrt(i),2))\n",
    "    print(str(i) + ' day ES at 95% confidence level: ' + str(np.round(ES_daily * np.sqrt(i),2)))\n"
   ]
  }
 ],
 "metadata": {
  "kernelspec": {
   "display_name": "Python 3 (ipykernel)",
   "language": "python",
   "name": "python3"
  },
  "language_info": {
   "codemirror_mode": {
    "name": "ipython",
    "version": 3
   },
   "file_extension": ".py",
   "mimetype": "text/x-python",
   "name": "python",
   "nbconvert_exporter": "python",
   "pygments_lexer": "ipython3",
   "version": "3.8.10"
  }
 },
 "nbformat": 4,
 "nbformat_minor": 5
}
