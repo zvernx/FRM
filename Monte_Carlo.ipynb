{
 "cells": [
  {
   "cell_type": "code",
   "execution_count": 20,
   "id": "3afec8b9-f781-495d-b032-1f9f2b085167",
   "metadata": {},
   "outputs": [
    {
     "data": {
      "text/html": [
       "<div>\n",
       "<style scoped>\n",
       "    .dataframe tbody tr th:only-of-type {\n",
       "        vertical-align: middle;\n",
       "    }\n",
       "\n",
       "    .dataframe tbody tr th {\n",
       "        vertical-align: top;\n",
       "    }\n",
       "\n",
       "    .dataframe thead th {\n",
       "        text-align: right;\n",
       "    }\n",
       "</style>\n",
       "<table border=\"1\" class=\"dataframe\">\n",
       "  <thead>\n",
       "    <tr style=\"text-align: right;\">\n",
       "      <th>Symbols</th>\n",
       "      <th>^GSPC</th>\n",
       "      <th>AAPL</th>\n",
       "      <th>ES=F</th>\n",
       "      <th>CL=F</th>\n",
       "    </tr>\n",
       "    <tr>\n",
       "      <th>Date</th>\n",
       "      <th></th>\n",
       "      <th></th>\n",
       "      <th></th>\n",
       "      <th></th>\n",
       "    </tr>\n",
       "  </thead>\n",
       "  <tbody>\n",
       "    <tr>\n",
       "      <th>2010-01-04</th>\n",
       "      <td>NaN</td>\n",
       "      <td>NaN</td>\n",
       "      <td>NaN</td>\n",
       "      <td>NaN</td>\n",
       "    </tr>\n",
       "    <tr>\n",
       "      <th>2010-01-05</th>\n",
       "      <td>0.003111</td>\n",
       "      <td>0.001727</td>\n",
       "      <td>0.003096</td>\n",
       "      <td>0.003185</td>\n",
       "    </tr>\n",
       "    <tr>\n",
       "      <th>2010-01-06</th>\n",
       "      <td>0.000545</td>\n",
       "      <td>-0.016034</td>\n",
       "      <td>0.000662</td>\n",
       "      <td>0.017097</td>\n",
       "    </tr>\n",
       "    <tr>\n",
       "      <th>2010-01-07</th>\n",
       "      <td>0.003993</td>\n",
       "      <td>-0.001850</td>\n",
       "      <td>0.003964</td>\n",
       "      <td>-0.006271</td>\n",
       "    </tr>\n",
       "    <tr>\n",
       "      <th>2010-01-08</th>\n",
       "      <td>0.002878</td>\n",
       "      <td>0.006626</td>\n",
       "      <td>0.003510</td>\n",
       "      <td>0.001088</td>\n",
       "    </tr>\n",
       "    <tr>\n",
       "      <th>...</th>\n",
       "      <td>...</td>\n",
       "      <td>...</td>\n",
       "      <td>...</td>\n",
       "      <td>...</td>\n",
       "    </tr>\n",
       "    <tr>\n",
       "      <th>2021-12-09</th>\n",
       "      <td>-0.007207</td>\n",
       "      <td>-0.002975</td>\n",
       "      <td>-0.006833</td>\n",
       "      <td>-0.019819</td>\n",
       "    </tr>\n",
       "    <tr>\n",
       "      <th>2021-12-10</th>\n",
       "      <td>0.009504</td>\n",
       "      <td>0.027628</td>\n",
       "      <td>0.009384</td>\n",
       "      <td>0.010238</td>\n",
       "    </tr>\n",
       "    <tr>\n",
       "      <th>2021-12-13</th>\n",
       "      <td>-0.009178</td>\n",
       "      <td>-0.020891</td>\n",
       "      <td>-0.009009</td>\n",
       "      <td>-0.005316</td>\n",
       "    </tr>\n",
       "    <tr>\n",
       "      <th>2021-12-14</th>\n",
       "      <td>-0.007499</td>\n",
       "      <td>-0.008056</td>\n",
       "      <td>-0.006824</td>\n",
       "      <td>-0.007886</td>\n",
       "    </tr>\n",
       "    <tr>\n",
       "      <th>2021-12-15</th>\n",
       "      <td>-0.002636</td>\n",
       "      <td>-0.007832</td>\n",
       "      <td>-0.005027</td>\n",
       "      <td>-0.005529</td>\n",
       "    </tr>\n",
       "  </tbody>\n",
       "</table>\n",
       "<p>3011 rows × 4 columns</p>\n",
       "</div>"
      ],
      "text/plain": [
       "Symbols        ^GSPC      AAPL      ES=F      CL=F\n",
       "Date                                              \n",
       "2010-01-04       NaN       NaN       NaN       NaN\n",
       "2010-01-05  0.003111  0.001727  0.003096  0.003185\n",
       "2010-01-06  0.000545 -0.016034  0.000662  0.017097\n",
       "2010-01-07  0.003993 -0.001850  0.003964 -0.006271\n",
       "2010-01-08  0.002878  0.006626  0.003510  0.001088\n",
       "...              ...       ...       ...       ...\n",
       "2021-12-09 -0.007207 -0.002975 -0.006833 -0.019819\n",
       "2021-12-10  0.009504  0.027628  0.009384  0.010238\n",
       "2021-12-13 -0.009178 -0.020891 -0.009009 -0.005316\n",
       "2021-12-14 -0.007499 -0.008056 -0.006824 -0.007886\n",
       "2021-12-15 -0.002636 -0.007832 -0.005027 -0.005529\n",
       "\n",
       "[3011 rows x 4 columns]"
      ]
     },
     "execution_count": 20,
     "metadata": {},
     "output_type": "execute_result"
    }
   ],
   "source": [
    "import numpy as np\n",
    "import pandas as pd\n",
    "from pandas_datareader import data as pdr\n",
    "from scipy import stats as st\n",
    "import matplotlib.pyplot as plt\n",
    "from pylab import mpl\n",
    "import datetime as dt\n",
    "\n",
    "ticker = ['^GSPC', 'AAPL', 'ES=F', 'CL=F']\n",
    "\n",
    "data = pdr.DataReader(ticker,'yahoo',start=dt.date(2010,1,1),end=dt.date.today())['Adj Close']\n",
    "\n",
    "#returns = data.pct_change().dropna()\n",
    "\n",
    "\n",
    "log_re = np.log(data/data.shift(1))\n",
    "\n",
    "\n",
    "log_re\n"
   ]
  },
  {
   "cell_type": "code",
   "execution_count": 38,
   "id": "45135829-83ba-45ed-b3c6-5466c5607599",
   "metadata": {},
   "outputs": [
    {
     "data": {
      "text/plain": [
       "array([-2233.37375406,   892.4177687 ,  1294.75244848, ...,\n",
       "       -1083.30514745, -1260.45956331,    68.39213018])"
      ]
     },
     "execution_count": 38,
     "metadata": {},
     "output_type": "execute_result"
    }
   ],
   "source": [
    "I = 10000000\n",
    "w=np.array([0.25,0.25,0.25,0.25])\n",
    "\n",
    "#Error factor if following t stat\n",
    "e1 = np.random.standard_t(df=len(log_re), size = I)\n",
    "\n",
    "#Error factor if following normal\n",
    "e2 = np.random.standard_normal(size = I)\n",
    "\n",
    "#Last closing price of each asset\n",
    "s0 = np.array(data.iloc[-1])\n",
    "\n",
    "#Annual return and volatility\n",
    "Rmean = log_re.mean()*252\n",
    "Rvol = log_re.std()*np.sqrt(252)\n",
    "\n",
    "#Time interval\n",
    "t = 1/252\n",
    "\n",
    "#Create a 10000X5 zero matrix\n",
    "s1 = np.zeros(shape = (I, len(w)))\n",
    "\n",
    "#Random process\n",
    "for i in range (len(w)):\n",
    "    s1[:,i] = s0[i]*np.exp((Rmean[i] - 0.5*Rvol[i]**2)*t + Rvol[i]*e1*np.sqrt(t))\n",
    "    \n",
    "Sp = (np.dot(s1/s0 - 1, w)*1e5)\n",
    "      \n",
    "Sp"
   ]
  },
  {
   "cell_type": "markdown",
   "id": "c3ca98a4-1a9b-409c-a68f-5545c073a5ba",
   "metadata": {},
   "source": [
    "1e5"
   ]
  },
  {
   "cell_type": "code",
   "execution_count": 34,
   "id": "ba053055-35fb-4b75-b4bf-2afcb8a244a3",
   "metadata": {},
   "outputs": [
    {
     "data": {
      "image/png": "[encoded data removed]",
      "text/plain": [
       "<Figure size 432x288 with 1 Axes>"
      ]
     },
     "metadata": {
      "needs_background": "light"
     },
     "output_type": "display_data"
    },
    {
     "data": {
      "text/plain": [
       "<Figure size 1080x1080 with 0 Axes>"
      ]
     },
     "metadata": {},
     "output_type": "display_data"
    }
   ],
   "source": [
    "fig, ax = plt.subplots()\n",
    "\n",
    "ax.hist(Sp, bins = 10000)\n",
    "\n",
    "ax.grid()\n",
    "\n",
    "plt.title('Monte Carlo following T distribution')\n",
    "\n",
    "plt.figure(figsize=(15,15))\n",
    "\n",
    "plt.show()\n"
   ]
  },
  {
   "cell_type": "code",
   "execution_count": 35,
   "id": "476b7fad-c9f4-475b-bef6-6ced97f83bfa",
   "metadata": {},
   "outputs": [
    {
     "data": {
      "text/plain": [
       "3696.873845846859"
      ]
     },
     "execution_count": 35,
     "metadata": {},
     "output_type": "execute_result"
    }
   ],
   "source": [
    "Var= abs(np.percentile(Sp,1))\n",
    "Var"
   ]
  },
  {
   "cell_type": "code",
   "execution_count": null,
   "id": "c285d1e9-80ec-4917-bc51-c84d742dc252",
   "metadata": {},
   "outputs": [],
   "source": []
  }
 ],
 "metadata": {
  "kernelspec": {
   "display_name": "Python 3 (ipykernel)",
   "language": "python",
   "name": "python3"
  },
  "language_info": {
   "codemirror_mode": {
    "name": "ipython",
    "version": 3
   },
   "file_extension": ".py",
   "mimetype": "text/x-python",
   "name": "python",
   "nbconvert_exporter": "python",
   "pygments_lexer": "ipython3",
   "version": "3.8.10"
  }
 },
 "nbformat": 4,
 "nbformat_minor": 5
}
