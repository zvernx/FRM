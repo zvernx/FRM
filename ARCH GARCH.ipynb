{
 "cells": [
  {
   "cell_type": "code",
   "execution_count": 74,
   "id": "df3c0505-9909-4c14-9dda-08565c749b4d",
   "metadata": {},
   "outputs": [
    {
     "data": {
      "text/html": [
       "<div>\n",
       "<style scoped>\n",
       "    .dataframe tbody tr th:only-of-type {\n",
       "        vertical-align: middle;\n",
       "    }\n",
       "\n",
       "    .dataframe tbody tr th {\n",
       "        vertical-align: top;\n",
       "    }\n",
       "\n",
       "    .dataframe thead th {\n",
       "        text-align: right;\n",
       "    }\n",
       "</style>\n",
       "<table border=\"1\" class=\"dataframe\">\n",
       "  <thead>\n",
       "    <tr style=\"text-align: right;\">\n",
       "      <th>Symbols</th>\n",
       "      <th>^GSPC</th>\n",
       "    </tr>\n",
       "    <tr>\n",
       "      <th>Date</th>\n",
       "      <th></th>\n",
       "    </tr>\n",
       "  </thead>\n",
       "  <tbody>\n",
       "    <tr>\n",
       "      <th>2018-01-03</th>\n",
       "      <td>0.006378</td>\n",
       "    </tr>\n",
       "    <tr>\n",
       "      <th>2018-01-04</th>\n",
       "      <td>0.004021</td>\n",
       "    </tr>\n",
       "    <tr>\n",
       "      <th>2018-01-05</th>\n",
       "      <td>0.007009</td>\n",
       "    </tr>\n",
       "    <tr>\n",
       "      <th>2018-01-08</th>\n",
       "      <td>0.001661</td>\n",
       "    </tr>\n",
       "    <tr>\n",
       "      <th>2018-01-09</th>\n",
       "      <td>0.001302</td>\n",
       "    </tr>\n",
       "    <tr>\n",
       "      <th>...</th>\n",
       "      <td>...</td>\n",
       "    </tr>\n",
       "    <tr>\n",
       "      <th>2021-12-16</th>\n",
       "      <td>-0.008782</td>\n",
       "    </tr>\n",
       "    <tr>\n",
       "      <th>2021-12-17</th>\n",
       "      <td>-0.010341</td>\n",
       "    </tr>\n",
       "    <tr>\n",
       "      <th>2021-12-20</th>\n",
       "      <td>-0.011453</td>\n",
       "    </tr>\n",
       "    <tr>\n",
       "      <th>2021-12-21</th>\n",
       "      <td>0.017622</td>\n",
       "    </tr>\n",
       "    <tr>\n",
       "      <th>2021-12-22</th>\n",
       "      <td>0.005714</td>\n",
       "    </tr>\n",
       "  </tbody>\n",
       "</table>\n",
       "<p>1001 rows × 1 columns</p>\n",
       "</div>"
      ],
      "text/plain": [
       "Symbols        ^GSPC\n",
       "Date                \n",
       "2018-01-03  0.006378\n",
       "2018-01-04  0.004021\n",
       "2018-01-05  0.007009\n",
       "2018-01-08  0.001661\n",
       "2018-01-09  0.001302\n",
       "...              ...\n",
       "2021-12-16 -0.008782\n",
       "2021-12-17 -0.010341\n",
       "2021-12-20 -0.011453\n",
       "2021-12-21  0.017622\n",
       "2021-12-22  0.005714\n",
       "\n",
       "[1001 rows x 1 columns]"
      ]
     },
     "execution_count": 74,
     "metadata": {},
     "output_type": "execute_result"
    }
   ],
   "source": [
    "import numpy as np\n",
    "import pandas as pd\n",
    "import datetime as dt\n",
    "from pandas_datareader import data as pdr\n",
    "from arch import arch_model\n",
    "\n",
    "data = pdr.get_data_yahoo(['^GSPC'], start=\"2018-01-01\", end=dt.date.today())['Adj Close']\n",
    "\n",
    "returns = (np.log(data/data.shift(1))).dropna()\n",
    "\n",
    "returns"
   ]
  },
  {
   "cell_type": "code",
   "execution_count": 75,
   "id": "b5e20e3c-6e36-4e07-8aa7-1038f4ce09a2",
   "metadata": {},
   "outputs": [
    {
     "name": "stdout",
     "output_type": "stream",
     "text": [
      "Iteration:      1,   Func. Count:      5,   Neg. LLF: 487754803798.54144\n",
      "Iteration:      2,   Func. Count:     17,   Neg. LLF: 3269544397.411824\n",
      "Iteration:      3,   Func. Count:     28,   Neg. LLF: -2101.1124589713168\n",
      "Iteration:      4,   Func. Count:     36,   Neg. LLF: -1101.7368191589846\n",
      "Iteration:      5,   Func. Count:     44,   Neg. LLF: -3102.2966531493817\n",
      "Iteration:      6,   Func. Count:     49,   Neg. LLF: -2854.5575868122864\n",
      "Iteration:      7,   Func. Count:     56,   Neg. LLF: -3107.308592401875\n",
      "Iteration:      8,   Func. Count:     60,   Neg. LLF: -3107.3086312336522\n",
      "Iteration:      9,   Func. Count:     63,   Neg. LLF: -3107.308631233682\n",
      "Optimization terminated successfully    (Exit mode 0)\n",
      "            Current function value: -3107.3086312336522\n",
      "            Iterations: 10\n",
      "            Function evaluations: 63\n",
      "            Gradient evaluations: 9\n"
     ]
    }
   ],
   "source": [
    "arch = arch_model(y = returns, mean = 'Constant', lags = 0, vol = 'ARCH', p = 1, o = 0, dist = 'normal' ,rescale=False )\n",
    "archmodel = arch.fit()"
   ]
  },
  {
   "cell_type": "code",
   "execution_count": 76,
   "id": "2287acd0-06b6-48db-aa3c-337e59e3eba2",
   "metadata": {},
   "outputs": [
    {
     "name": "stdout",
     "output_type": "stream",
     "text": [
      "                      Constant Mean - ARCH Model Results                      \n",
      "==============================================================================\n",
      "Dep. Variable:                  ^GSPC   R-squared:                       0.000\n",
      "Mean Model:             Constant Mean   Adj. R-squared:                  0.000\n",
      "Vol Model:                       ARCH   Log-Likelihood:                3107.31\n",
      "Distribution:                  Normal   AIC:                          -6208.62\n",
      "Method:            Maximum Likelihood   BIC:                          -6193.89\n",
      "                                        No. Observations:                 1001\n",
      "Date:                Wed, Dec 22 2021   Df Residuals:                     1000\n",
      "Time:                        19:36:56   Df Model:                            1\n",
      "                                 Mean Model                                 \n",
      "============================================================================\n",
      "                 coef    std err          t      P>|t|      95.0% Conf. Int.\n",
      "----------------------------------------------------------------------------\n",
      "mu         1.4214e-03  3.483e-04      4.081  4.482e-05 [7.387e-04,2.104e-03]\n",
      "                              Volatility Model                              \n",
      "============================================================================\n",
      "                 coef    std err          t      P>|t|      95.0% Conf. Int.\n",
      "----------------------------------------------------------------------------\n",
      "omega      7.0501e-05  7.314e-06      9.639  5.448e-22 [5.617e-05,8.484e-05]\n",
      "alpha[1]       0.6893      0.159      4.335  1.456e-05     [  0.378,  1.001]\n",
      "============================================================================\n",
      "\n",
      "Covariance estimator: robust\n",
      "mu          0.001421\n",
      "omega       0.000071\n",
      "alpha[1]    0.689313\n",
      "Name: params, dtype: float64\n"
     ]
    }
   ],
   "source": [
    "print(archmodel.summary())\n",
    "print(archmodel.params)\n"
   ]
  },
  {
   "cell_type": "code",
   "execution_count": 77,
   "id": "ecb07d3c-8f87-4a05-ae45-cfe43630ec6d",
   "metadata": {},
   "outputs": [
    {
     "data": {
      "image/png": "[encoded data removed]",
      "text/plain": [
       "<Figure size 432x288 with 2 Axes>"
      ]
     },
     "execution_count": 77,
     "metadata": {},
     "output_type": "execute_result"
    },
    {
     "data": {
      "image/png": "[encoded data removed]",
      "text/plain": [
       "<Figure size 432x288 with 2 Axes>"
      ]
     },
     "metadata": {
      "needs_background": "light"
     },
     "output_type": "display_data"
    }
   ],
   "source": [
    "archmodel.plot()"
   ]
  },
  {
   "cell_type": "code",
   "execution_count": 78,
   "id": "35c445f7-50d1-470a-bacd-6ec22a9d07a3",
   "metadata": {},
   "outputs": [],
   "source": [
    "garch=arch_model(y=returns,mean='Constant',lags=0,vol='GARCH',p=1,o=0,q=1,dist='normal', rescale = False)\n"
   ]
  },
  {
   "cell_type": "code",
   "execution_count": 79,
   "id": "28201e4f-e9b5-4143-98c9-ec733af591cf",
   "metadata": {},
   "outputs": [
    {
     "name": "stdout",
     "output_type": "stream",
     "text": [
      "Iteration:      1,   Func. Count:      6,   Neg. LLF: 20078252091.4237\n",
      "Iteration:      2,   Func. Count:     19,   Neg. LLF: 1266418554.9962692\n",
      "Iteration:      3,   Func. Count:     31,   Neg. LLF: 35616296.86097279\n",
      "Iteration:      4,   Func. Count:     43,   Neg. LLF: 496319960.3392635\n",
      "Iteration:      5,   Func. Count:     55,   Neg. LLF: 12677995.401051462\n",
      "Iteration:      6,   Func. Count:     66,   Neg. LLF: -3245.5772488023586\n",
      "Optimization terminated successfully    (Exit mode 0)\n",
      "            Current function value: -3245.5772481769536\n",
      "            Iterations: 10\n",
      "            Function evaluations: 66\n",
      "            Gradient evaluations: 6\n"
     ]
    }
   ],
   "source": [
    "garchmodel=garch.fit()\n"
   ]
  },
  {
   "cell_type": "code",
   "execution_count": 80,
   "id": "95dae88f-7f16-43ed-b2b0-103aee596a61",
   "metadata": {},
   "outputs": [
    {
     "name": "stdout",
     "output_type": "stream",
     "text": [
      "                     Constant Mean - GARCH Model Results                      \n",
      "==============================================================================\n",
      "Dep. Variable:                  ^GSPC   R-squared:                       0.000\n",
      "Mean Model:             Constant Mean   Adj. R-squared:                  0.000\n",
      "Vol Model:                      GARCH   Log-Likelihood:                3245.58\n",
      "Distribution:                  Normal   AIC:                          -6483.15\n",
      "Method:            Maximum Likelihood   BIC:                          -6463.52\n",
      "                                        No. Observations:                 1001\n",
      "Date:                Wed, Dec 22 2021   Df Residuals:                     1000\n",
      "Time:                        19:37:04   Df Model:                            1\n",
      "                                 Mean Model                                 \n",
      "============================================================================\n",
      "                 coef    std err          t      P>|t|      95.0% Conf. Int.\n",
      "----------------------------------------------------------------------------\n",
      "mu         1.0589e-03  4.592e-07   2305.947      0.000 [1.058e-03,1.060e-03]\n",
      "                              Volatility Model                              \n",
      "============================================================================\n",
      "                 coef    std err          t      P>|t|      95.0% Conf. Int.\n",
      "----------------------------------------------------------------------------\n",
      "omega      3.6343e-06  7.846e-12  4.632e+05      0.000 [3.634e-06,3.634e-06]\n",
      "alpha[1]       0.2000  4.100e-02      4.879  1.069e-06     [  0.120,  0.280]\n",
      "beta[1]        0.7800  3.029e-02     25.754 2.870e-146     [  0.721,  0.839]\n",
      "============================================================================\n",
      "\n",
      "Covariance estimator: robust\n",
      "mu          0.001059\n",
      "omega       0.000004\n",
      "alpha[1]    0.200000\n",
      "beta[1]     0.780000\n",
      "Name: params, dtype: float64\n"
     ]
    }
   ],
   "source": [
    "print(garchmodel.summary())\n",
    "print(garchmodel.params)"
   ]
  },
  {
   "cell_type": "code",
   "execution_count": 81,
   "id": "fa8e8894-ce45-46dd-b379-c5bb9cf6c198",
   "metadata": {},
   "outputs": [
    {
     "name": "stdout",
     "output_type": "stream",
     "text": [
      "0.013480081305407675\n"
     ]
    }
   ],
   "source": [
    "# Garch: sigma^2 = omega + alpha * return-1^2 + beta * sigma-1^2\n",
    "# long term vol = sqrt(omega/(1 - alpha - beta))\n",
    "\n",
    "long_vol = np.sqrt(garchmodel.params[1]/(1 - garchmodel.params[2] - garchmodel.params[3]))\n",
    "\n",
    "print(long_vol)"
   ]
  },
  {
   "cell_type": "code",
   "execution_count": 90,
   "id": "6c599a45-14b7-4a76-ac1f-0f61cb34a9d1",
   "metadata": {},
   "outputs": [],
   "source": [
    "#EWMA sigma^2 = lambda * sigma-1^2 + (1-lambda) * return-1^2\n",
    "\n",
    "#EMWA \n",
    "\n",
    "\n"
   ]
  },
  {
   "cell_type": "code",
   "execution_count": 67,
   "id": "2c3ed0bd-4c22-488b-9a00-877934b96693",
   "metadata": {},
   "outputs": [],
   "source": []
  }
 ],
 "metadata": {
  "kernelspec": {
   "display_name": "Python 3 (ipykernel)",
   "language": "python",
   "name": "python3"
  },
  "language_info": {
   "codemirror_mode": {
    "name": "ipython",
    "version": 3
   },
   "file_extension": ".py",
   "mimetype": "text/x-python",
   "name": "python",
   "nbconvert_exporter": "python",
   "pygments_lexer": "ipython3",
   "version": "3.8.10"
  }
 },
 "nbformat": 4,
 "nbformat_minor": 5
}
